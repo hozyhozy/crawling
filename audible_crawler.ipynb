{
 "cells": [
  {
   "cell_type": "code",
   "execution_count": null,
   "id": "06139e83",
   "metadata": {},
   "outputs": [],
   "source": [
    "from selenium import webdriver\n",
    "import time\n",
    "import random\n",
    "from bs4 import BeautifulSoup as bs\n",
    "import csv \n",
    "import requests\n",
    "import pandas as pd\n",
    "import re\n",
    "from selenium.webdriver.common.desired_capabilities import DesiredCapabilities\n",
    "#desired Capabilities클래스는 테스트를 실행할 수 있는 브라우저/환경의 동작을 정의하는 환경을 설정하는 데 도움이 됩니다.\n",
    "import urllib.request\n",
    "import urllib.parse\n",
    "from bs4 import BeautifulSoup"
   ]
  },
  {
   "cell_type": "markdown",
   "id": "5c915878",
   "metadata": {},
   "source": [
    "# Audible 장르별 url"
   ]
  },
  {
   "cell_type": "code",
   "execution_count": null,
   "id": "8cc56449",
   "metadata": {},
   "outputs": [],
   "source": [
    "def get_category_numbering(list):\n",
    "    rtn_list = []\n",
    "    for item in list:\n",
    "        rtn_list.append( item.get_text())\n",
    "    return rtn_list\n",
    "\n",
    "url = 'https://www.audible.com//most-listened-audiobooks'\n",
    "request = urllib.request.urlopen(url)\n",
    "html = request.read()\n",
    "soup = BeautifulSoup(html, 'html.parser')\n",
    "\n",
    "#장르별카테고리 링크 가져오기\n",
    "find_ul = soup.find('ul', class_='bc-list bc-spacing-medium bc-list-nostyle')\n",
    "\n",
    "link=[]\n",
    "for href in find_ul.find_all('li'):\n",
    "    a = href.find_all('a')\n",
    "    for i in a:\n",
    "        b = i['href']\n",
    "        link.append('https://www.audible.com/'+b)\n",
    "        \n",
    "# 카테고리 리스트 번호 매김 \n",
    "li_list = find_ul.find_all('li')\n",
    "select_list = get_category_numbering(li_list)     \n",
    "select_list =  select_list[1::] \n",
    "\n",
    "# 수집한 리스트를 DataFrame으로 전환\n",
    "data = {'link' : b,\n",
    "        'genre' : select_list}\n",
    "\n",
    "df = pd.DataFrame(data)\n",
    "df"
   ]
  },
  {
   "cell_type": "code",
   "execution_count": null,
   "id": "96137bc8",
   "metadata": {
    "scrolled": true
   },
   "outputs": [],
   "source": [
    "link"
   ]
  },
  {
   "cell_type": "markdown",
   "id": "391f68d0",
   "metadata": {},
   "source": [
    "# driver 선언"
   ]
  },
  {
   "cell_type": "code",
   "execution_count": null,
   "id": "ce034f3f",
   "metadata": {},
   "outputs": [],
   "source": [
    "book_selector='#product-list-a11y-skiplink-target > span > ul > div > li:nth-child(17) > div > div.bc-col-responsive.bc-spacing-top-none.bc-col-8 > div > div.bc-col-responsive.bc-col-5 > div > div:nth-child(1) > div > a > div > img'\n",
    "genre_num ='18581095011'"
   ]
  },
  {
   "cell_type": "code",
   "execution_count": null,
   "id": "da033083",
   "metadata": {},
   "outputs": [],
   "source": [
    "from selenium import webdriver\n",
    "from webdriver_manager.chrome import ChromeDriverManager\n",
    "driver = webdriver.Chrome(ChromeDriverManager().install())\n",
    "\n",
    "for url in link:\n",
    "    \n",
    "    if genre_num in url: \n",
    "    \n",
    "        driver.get(url)\n",
    "        time.sleep(1.1)\n",
    "        \n",
    "        # 책 버튼 클릭\n",
    "        driver.find_element_by_css_selector(book_selector).click()\n",
    "        time.sleep(5)"
   ]
  },
  {
   "cell_type": "markdown",
   "id": "fafabfe8",
   "metadata": {},
   "source": [
    "# SCROLL"
   ]
  },
  {
   "cell_type": "code",
   "execution_count": null,
   "id": "0d5dcd0b",
   "metadata": {},
   "outputs": [],
   "source": [
    "last_height = driver.execute_script(\"return document.body.scrollHeight\")  #스크롤의 위치를 찾습니다.                \n",
    "\n",
    "while True:\n",
    "    \n",
    "    for i in range(4):  #스크롤을 내리면 3번까지는 자동적으로 댓글 갱신이 되는데, 4번째에는 \"더보기\" 버튼이 활성화됩니다.                                                                    \n",
    "        driver.execute_script(\"window.scrollTo(0, document.body.scrollHeight);\") #스크롤을 가능한 아래까지 내립니다.\n",
    "        time.sleep(random.uniform(1,1.7))  \n",
    "    \n",
    "    try:\n",
    "        driver.find_element_by_xpath('//div/span/button[@aria-label=\"Show More Reviews\"]').click()\n",
    "\n",
    "        time.sleep(random.uniform(1,1.7))\n",
    "    except:  #같은 조건에서 \"더보기\" 버튼이 활성화 되지 않으면 이 과정을 무시합니다.\n",
    "        pass\n",
    "        \n",
    "    new_height = driver.execute_script(\"return document.body.scrollHeight\")  \n",
    "    #스크롤을 가능한 아래까지 내렸을 때, 댓글이 갱신되어 스크롤의 위치와 크기가 바뀌면, 다시 그 스크롤을 최대한 아래까지 내립니다.\n",
    "    if new_height == last_height:   \n",
    "        #스크롤을 가능한 아래까지 내렸을 때, 댓글이 갱신되지 않아 스크롤의 위치와 크기가 바뀌지 않는다면, 이 루프를 끝냅니다.\n",
    "        break\n",
    "    last_height = new_height"
   ]
  },
  {
   "cell_type": "markdown",
   "id": "d0ae3758",
   "metadata": {},
   "source": [
    "# 장르별 리뷰와 별점 크롤링\n",
    "- us/uk 리뷰가 각각 다른 페이지에 존재함\n",
    "- 메타데이터 제목에 정리!"
   ]
  },
  {
   "cell_type": "markdown",
   "id": "2ffb075c",
   "metadata": {},
   "source": [
    "## US 리뷰"
   ]
  },
  {
   "cell_type": "code",
   "execution_count": null,
   "id": "462a58d6",
   "metadata": {},
   "outputs": [],
   "source": [
    "soup = bs(driver.page_source, 'lxml')\n",
    "\n",
    "review_Title = []\n",
    "review_Date= []\n",
    "review_content=[]\n",
    "\n",
    "N = int(5000)\n",
    "\n",
    "for w in range(N):\n",
    "    \n",
    "    #xpath 4번째 슬러시가 4=uk //3=us\n",
    "    \n",
    "    #TITLE\n",
    "    title = driver.find_elements_by_xpath('//*[@id=\"center-15\"]/div/div[3]/div/div[3]/div[2]/div[{}]/div[2]/h4'.format(w))\n",
    "    for i in title:\n",
    "        \n",
    "        com = i.text\n",
    "        review_Title.append([com])\n",
    "\n",
    "    #DATE\n",
    "    Date = driver.find_elements_by_xpath('//*[@id=\"center-15\"]/div/div[3]/div/div[3]/div[2]/div[{}]/div[1]/div/div[2]/span/ul/li[2]'.format(w))\n",
    "    for j in Date:\n",
    "        d = j.text\n",
    "        review_Date.append([d])\n",
    "        \n",
    "    #CONTENT\n",
    "    content = driver.find_elements_by_xpath('//*[@id=\"center-15\"]/div/div[3]/div/div[3]/div[2]/div[{}]/div[2]/p'.format(w))\n",
    "    if len(content) == 0:\n",
    "        pass\n",
    "        \n",
    "    elif (len(content) > 0) and (len(content) <= 2):\n",
    "        review_content.append([content[0].text])\n",
    "    \n",
    "    else:\n",
    "        insert = []\n",
    "        for i in content:\n",
    "            insert.append(i.text)\n",
    "        review_content.append(insert[1::2])\n",
    "print(len(review_Title), len(review_Date) , len(review_content))  \n",
    "\n",
    "#STAR(Overall만 불러와짐..ㅎㅎ)\n",
    "star=[]\n",
    "\n",
    "for w in range(len(review_Title)+1): \n",
    "    star1=driver.find_elements_by_xpath('//*[@id=\"center-15\"]/div/div[3]/div/div[3]/div[2]/div[{}]/div[1]/span/ul/li[1] | //*[@id=\"center-15\"]/div/div[3]/div/div[4]/div[2]/div[{}]/div[1]/span/ul/li'.format(w,w))\n",
    "    for i in star1:\n",
    "        star.append(i.text)\n",
    "        \n",
    "star=[x for x in star if x] # 빈칸 제거\n",
    "print(len(star))"
   ]
  },
  {
   "cell_type": "code",
   "execution_count": null,
   "id": "abc0a98c",
   "metadata": {},
   "outputs": [],
   "source": [
    "star00=[]\n",
    "for n in range(len(star)):\n",
    "    i = star[n]\n",
    "    i = i.split('\\n')\n",
    "    star00.append([i[1]])\n",
    "    \n",
    "    \n",
    "star_US=[]    \n",
    "for j in star00:\n",
    "    z = re.findall(r'\\d', str(j))\n",
    "    star_US.append([z[0]])\n",
    "print(len(star_US))"
   ]
  },
  {
   "cell_type": "code",
   "execution_count": null,
   "id": "1df51868",
   "metadata": {},
   "outputs": [],
   "source": [
    "#크롤링 된 데이터 프레임으로 만들기\n",
    "data = {'Title' : review_Title,\n",
    "        'Review' : review_content,\n",
    "       'Date':review_Date}\n",
    "df = pd.DataFrame(data)\n",
    "star=pd.DataFrame(star_US)\n",
    "result=pd.concat([df,star], axis=1)\n",
    "result1=result.copy()\n",
    "result1['Star']=result1[0]\n",
    "del result1[0]\n",
    "result1"
   ]
  },
  {
   "cell_type": "code",
   "execution_count": null,
   "id": "3130746d",
   "metadata": {},
   "outputs": [],
   "source": [
    "result1.to_csv('Travel & Tourism#17.csv')"
   ]
  },
  {
   "cell_type": "code",
   "execution_count": null,
   "id": "9ff6e545",
   "metadata": {},
   "outputs": [],
   "source": [
    "driver.quit()"
   ]
  },
  {
   "cell_type": "code",
   "execution_count": null,
   "id": "623bb606",
   "metadata": {},
   "outputs": [],
   "source": []
  },
  {
   "cell_type": "markdown",
   "id": "eb9f3015",
   "metadata": {},
   "source": [
    "# UK"
   ]
  },
  {
   "cell_type": "markdown",
   "id": "7d775586",
   "metadata": {},
   "source": [
    "# 드라이버 선언"
   ]
  },
  {
   "cell_type": "code",
   "execution_count": null,
   "id": "894fa48d",
   "metadata": {},
   "outputs": [],
   "source": [
    "from selenium import webdriver\n",
    "from webdriver_manager.chrome import ChromeDriverManager\n",
    "driver = webdriver.Chrome(ChromeDriverManager().install())\n",
    "\n",
    "for url in link:\n",
    "    if genre_num in url: \n",
    "    \n",
    "        driver.get(url)\n",
    "        time.sleep(1.1)\n",
    "        \n",
    "        # 책 버튼 클릭\n",
    "        driver.find_element_by_css_selector(book_selector).click()\n",
    "        time.sleep(5)\n",
    "        #UK review buttom 클릭\n",
    "        driver.find_element_by_css_selector('#UK > div > h2').click()\n",
    "        time.sleep(5)"
   ]
  },
  {
   "cell_type": "code",
   "execution_count": null,
   "id": "ab3cb83d",
   "metadata": {},
   "outputs": [],
   "source": [
    "last_height = driver.execute_script(\"return document.body.scrollHeight\")  #스크롤의 위치를 찾습니다.                \n",
    "\n",
    "while True:\n",
    "    \n",
    "    for i in range(3):  #스크롤을 내리면 3번까지는 자동적으로 댓글 갱신이 되는데, 4번째에는 \"더보기\" 버튼이 활성화됩니다.                                                                    \n",
    "        driver.execute_script(\"window.scrollTo(0, document.body.scrollHeight);\") #스크롤을 가능한 아래까지 내립니다.\n",
    "        time.sleep(random.uniform(1,1.7))  \n",
    "    \n",
    "    try:\n",
    "        driver.find_element_by_xpath('//*[@id=\"pagingButtonsUK\"]/div/span/button').click()\n",
    "        time.sleep(random.uniform(1,1.7))\n",
    "    except:  #같은 조건에서 \"더보기\" 버튼이 활성화 되지 않으면 이 과정을 무시합니다.\n",
    "        pass\n",
    "        \n",
    "    new_height = driver.execute_script(\"return document.body.scrollHeight\")  \n",
    "    #스크롤을 가능한 아래까지 내렸을 때, 댓글이 갱신되어 스크롤의 위치와 크기가 바뀌면, 다시 그 스크롤을 최대한 아래까지 내립니다.\n",
    "    if new_height == last_height:   \n",
    "        #스크롤을 가능한 아래까지 내렸을 때, 댓글이 갱신되지 않아 스크롤의 위치와 크기가 바뀌지 않는다면, 이 루프를 끝냅니다.\n",
    "        break\n",
    "    last_height = new_height"
   ]
  },
  {
   "cell_type": "code",
   "execution_count": null,
   "id": "6fec7eb5",
   "metadata": {},
   "outputs": [],
   "source": [
    "UK_review_Title = []\n",
    "UK_review_Date= []\n",
    "UK_review_content=[]\n",
    "\n",
    "#요고 변경해야함.\n",
    "#N = int(input('반복횟수를 결정해주세요 :'))\n",
    "N = int(1000)\n",
    "\n",
    "for w in range(N):\n",
    "    \n",
    "    #xpath 4번째 슬러시가 4=uk //3=us\n",
    "    #TITLE\n",
    "    UK_title = driver.find_elements_by_xpath('//*[@id=\"center-15\"]/div/div[3]/div/div[4]/div[2]/div[{}]/div[2]/h4'.format(w))\n",
    "    for i in UK_title:\n",
    "        com = i.text\n",
    "        UK_review_Title.append([com])\n",
    "\n",
    "    #DATE                                   \n",
    "    UK_Date = driver.find_elements_by_xpath('//*[@id=\"center-15\"]/div/div[3]/div/div[4]/div[2]/div[{}]/div[1]/div/div[2]/span/ul/li[2]'.format(w))\n",
    "    for j in UK_Date:\n",
    "        d = j.text\n",
    "        UK_review_Date.append([d])\n",
    "        \n",
    "    #CONTENT\n",
    "    UK_content = driver.find_elements_by_xpath('//*[@id=\"center-15\"]/div/div[3]/div/div[4]/div[2]/div[{}]/div[2]/p'.format(w))\n",
    "    if len(UK_content) == 0:\n",
    "        pass\n",
    "        \n",
    "    elif (len(UK_content) > 0) and (len(UK_content) <= 2):\n",
    "        UK_review_content.append([UK_content[0].text])\n",
    "    \n",
    "    else:\n",
    "        insert = []\n",
    "        for i in UK_content:\n",
    "            insert.append(i.text)\n",
    "        UK_review_content.append(insert[1::2])\n",
    "        \n",
    "print(len(UK_review_Title), len(UK_review_Date) , len(UK_review_content)) "
   ]
  },
  {
   "cell_type": "code",
   "execution_count": null,
   "id": "e38a8785",
   "metadata": {},
   "outputs": [],
   "source": [
    "#STAR\n",
    "UK_star=[]\n",
    "\n",
    "for w in range(N): \n",
    "    star1=driver.find_elements_by_xpath('//*[@id=\"center-15\"]/div/div[3]/div/div[4]/div[2]/div[{}]/div[1]/span/ul/li[1] | //*[@id=\"center-15\"]/div/div[3]/div/div[4]/div[2]/div[{}]/div[1]/span/ul/li'.format(w,w))\n",
    "    \n",
    "    for i in star1:\n",
    "        UK_star.append(i.text) \n",
    "\n",
    "b=[]\n",
    "for i in UK_star:\n",
    "    a=i.split('\\n')\n",
    "    b.append(a)\n",
    "    \n",
    "\n",
    "UK_star_dict={\"Overall\":[], \"Performance\":[], \"Story\":[]}\n",
    "\n",
    "for i, j in b:\n",
    "    z = re.findall(r'\\d', j)\n",
    "    if 'Overall' in i :\n",
    "            UK_star_dict['Overall'].append(z[0])\n",
    "            \n",
    "    elif 'Performance' in i :\n",
    "        UK_star_dict['Performance'].append(z[0])\n",
    "            \n",
    "    else:\n",
    "        UK_star_dict['Story'].append(z[0])\n",
    "    \n",
    "\n",
    "print(len(UK_star_dict['Overall']), len(UK_star_dict['Performance']), len(UK_star_dict['Story']))                      "
   ]
  },
  {
   "cell_type": "code",
   "execution_count": null,
   "id": "268e36dd",
   "metadata": {},
   "outputs": [],
   "source": [
    "#크롤링 된 데이터 프레임으로 만들기\n",
    "data1 = {'Title' : UK_review_Title,\n",
    "        'Review' : UK_review_content,\n",
    "       'Date':UK_review_Date}\n",
    "UK_df = pd.DataFrame(data1)\n",
    "UK_star=pd.DataFrame(UK_star_dict['Overall'])\n",
    "UK_result=pd.concat([UK_df,UK_star], axis=1)\n",
    "UK_result1=UK_result.copy()\n",
    "UK_result1['Star']=UK_result1[0]\n",
    "del UK_result1[0]\n",
    "UK_result1"
   ]
  },
  {
   "cell_type": "markdown",
   "id": "1e953649",
   "metadata": {},
   "source": [
    "# US+UK data concat"
   ]
  },
  {
   "cell_type": "code",
   "execution_count": null,
   "id": "e7dacdbb",
   "metadata": {},
   "outputs": [],
   "source": [
    "total= pd.concat([UK_result1,result1], axis=0)\n",
    "print(len(total))\n",
    "total"
   ]
  },
  {
   "cell_type": "code",
   "execution_count": null,
   "id": "1165b545",
   "metadata": {},
   "outputs": [],
   "source": [
    "total.to_csv('Travel & Tourism#17.csv')"
   ]
  },
  {
   "cell_type": "code",
   "execution_count": null,
   "id": "077be818",
   "metadata": {},
   "outputs": [],
   "source": [
    "driver.quit()\n"
   ]
  }
 ],
 "metadata": {
  "kernelspec": {
   "display_name": "Python 3 (ipykernel)",
   "language": "python",
   "name": "python3"
  },
  "language_info": {
   "codemirror_mode": {
    "name": "ipython",
    "version": 3
   },
   "file_extension": ".py",
   "mimetype": "text/x-python",
   "name": "python",
   "nbconvert_exporter": "python",
   "pygments_lexer": "ipython3",
   "version": "3.9.7"
  }
 },
 "nbformat": 4,
 "nbformat_minor": 5
}
