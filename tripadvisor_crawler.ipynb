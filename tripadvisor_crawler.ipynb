{
 "cells": [
  {
   "cell_type": "markdown",
   "id": "665e1558",
   "metadata": {},
   "source": [
    "- <span style=\"color:#2D3748; background-color:#fff5b1;\"> 문제점: 계속 제일 먼저나오는것이 반복적으로 나온다--> 완전한 해결책 X </span>\n",
    "- 대신 나중에 전처리 과정에서 중복 제거하자.."
   ]
  },
  {
   "cell_type": "code",
   "execution_count": null,
   "id": "d8ffda00",
   "metadata": {},
   "outputs": [],
   "source": [
    "# !pip install selenium\n",
    "# !pip install webdriver-manager"
   ]
  },
  {
   "cell_type": "code",
   "execution_count": null,
   "id": "20766ab8",
   "metadata": {},
   "outputs": [],
   "source": [
    "from selenium import webdriver\n",
    "import time\n",
    "import random\n",
    "import requests\n",
    "from urllib.request import urlopen\n",
    "import pandas as pd\n",
    "from selenium.webdriver.common.desired_capabilities import DesiredCapabilities\n",
    "#desired Capabilities클래스는 테스트를 실행할 수 있는 브라우저/환경의 동작을 정의하는 환경을 설정하는 데 도움이 됩니다.\n",
    "import urllib.parse\n",
    "from bs4 import BeautifulSoup as bs\n",
    "import csv, re, requests\n",
    "\n",
    "\n",
    "from selenium.webdriver.common.by import By\n",
    "from selenium.webdriver.support.ui import WebDriverWait\n",
    "from selenium.webdriver.support import expected_conditions as EC"
   ]
  },
  {
   "cell_type": "markdown",
   "id": "6e1ba3dc",
   "metadata": {},
   "source": [
    "# URL"
   ]
  },
  {
   "cell_type": "code",
   "execution_count": null,
   "id": "e598e3b1",
   "metadata": {},
   "outputs": [],
   "source": [
    "from selenium import webdriver\n",
    "from webdriver_manager.chrome import ChromeDriverManager\n",
    "driver = webdriver.Chrome(ChromeDriverManager().install())\n",
    "url='https://www.tripadvisor.com/ShowUserReviews-g60763-d107466-r821786251-Frick_Collection-New_York_City_New_York.html?filterLang=ALL'\n",
    "driver.get(url)"
   ]
  },
  {
   "cell_type": "markdown",
   "id": "85c61444",
   "metadata": {},
   "source": [
    "# 쿠키 수락(Optional)"
   ]
  },
  {
   "cell_type": "code",
   "execution_count": null,
   "id": "6db7e81d",
   "metadata": {},
   "outputs": [],
   "source": [
    "#쿠키수락 팝업창의 경우는 언제 뜰지모르므로 EC.presence_of_all_elements_located 이용해야한다\n",
    "# okay_button = WebDriverWait(driver, 30).until(\n",
    "#         EC.presence_of_all_elements_located([By.CSS_SELECTOR,'#onetrust-accept-btn-handler']))\n",
    "# okay_button[0].click()\n",
    "# time.sleep(random.uniform(1,1.7))  "
   ]
  },
  {
   "cell_type": "markdown",
   "id": "9f00813c",
   "metadata": {},
   "source": [
    "# 크롤링"
   ]
  },
  {
   "cell_type": "code",
   "execution_count": null,
   "id": "7303c8e2",
   "metadata": {},
   "outputs": [],
   "source": [
    "review_Title = []\n",
    "# review_Date= []\n",
    "review_content=[]\n",
    "user_country=[]\n",
    "score=[]\n",
    "Like=[]\n",
    "\n",
    "time.sleep(1)\n",
    "html_doc = driver.page_source\n",
    "#driver.close()\n",
    "\n",
    "soup = bs(html_doc,'html.parser')\n",
    "\n",
    "page =0\n",
    "\n",
    "while True: #True\n",
    "    page += 1\n",
    "    print('page_number: ', page)\n",
    "    time.sleep(random.uniform(3,4))\n",
    "    \n",
    "    whole=driver.find_elements_by_css_selector('div.ui_column.is-9')\n",
    "    for i in whole:\n",
    "        \n",
    "        #리뷰제목\n",
    "        title = i.find_elements_by_css_selector('span.noQuotes')\n",
    "        if len(title) > 1:\n",
    "            review_Title.append(title[0].text.strip())\n",
    "        else: \n",
    "            review_Title.append(title[0].text.strip())\n",
    "        \n",
    "        #리뷰내용\n",
    "        a_1=i.find_elements_by_css_selector('p.partial_entry')\n",
    "        if len(a_1) > 1:\n",
    "            review_content.append(a_1[0].text.strip())\n",
    "        else: \n",
    "            review_content.append(a_1[0].text.strip())\n",
    "        \n",
    "        #별점\n",
    "        comment_tags4 = i.find_elements_by_css_selector('span.ui_bubble_rating')\n",
    "        for heo in comment_tags4:\n",
    "            Score = heo.get_attribute('class')\n",
    "            Score = str(Score).split('ui_bubble_rating bubble_')\n",
    "            Score1 = str(Score[1])\n",
    "            score.append(Score1)\n",
    "        \n",
    "        #좋아요\n",
    "        comment_tags5 = i.find_elements_by_css_selector('span.numHelp.emphasizeWithColor')\n",
    "        for l1 in comment_tags5:\n",
    "            Like.append(l1.text.strip())\n",
    "        \n",
    "    \n",
    "    \n",
    "    #국가\n",
    "    comment_tags2 = driver.find_elements_by_css_selector('div.info_text')\n",
    "    for jee1 in comment_tags2[1::]:\n",
    "        c=jee1.text\n",
    "        c_1=c.split('\\n')\n",
    "        if len(c_1) ==1:\n",
    "            user_country.append('none')\n",
    "        else:\n",
    "            user_country.append(c_1[1])\n",
    "    \n",
    "    print('review_title 길이: ', f'{len(review_Title)}'+'\\n' , 'review_content 길이:' f'{len(review_content)}'+'\\n', 'user_country 길이: ', f'{len(user_country)}'+'\\n' , 'score 길이: ', f'{len(score)}'+'\\n' ,'like 길이: ', f'{len(Like)}' )\n",
    "    \n",
    "    #다음 버튼\n",
    "    next_btn = WebDriverWait(driver, 10).until(\n",
    "            EC.presence_of_element_located([By.CSS_SELECTOR,'a.nav.next']))\n",
    "\n",
    "    try:\n",
    "        next_btn.click()\n",
    "        time.sleep(random.uniform(2,3))\n",
    "    \n",
    "    except:\n",
    "        print('finish')\n",
    "        \n",
    "        break\n",
    "    time.sleep(1)        "
   ]
  },
  {
   "cell_type": "markdown",
   "id": "32747e17",
   "metadata": {},
   "source": [
    "# dataframe으로만들기"
   ]
  },
  {
   "cell_type": "code",
   "execution_count": null,
   "id": "cc68f0f5",
   "metadata": {},
   "outputs": [],
   "source": [
    "#크롤링 된 데이터 프레임으로 만들기\n",
    "data1 = {'Title' : review_Title, #title 갯수 안맞음\n",
    "        'Review' : review_content,\n",
    "       # 'Date':review_Date,\n",
    "        'User_country':user_country, #갯수 안맞음\n",
    "        'Score':score,\n",
    "        'Like':Like}\n",
    "df1 = pd.DataFrame(data1)\n",
    "\n",
    "#장소 추가(바꿔줘야함)\n",
    "df1['location']='frickcollection'\n",
    "df1"
   ]
  },
  {
   "cell_type": "code",
   "execution_count": null,
   "id": "88fd0286",
   "metadata": {},
   "outputs": [],
   "source": [
    "driver.quit()"
   ]
  },
  {
   "cell_type": "markdown",
   "id": "2a3aed78",
   "metadata": {},
   "source": [
    "# 후처리"
   ]
  },
  {
   "cell_type": "markdown",
   "id": "6ed253e2",
   "metadata": {},
   "source": [
    "- 중복제거\n",
    "- User_country열에서 city와 country 분류 (Asian vs. Western 분류 위해)"
   ]
  },
  {
   "cell_type": "code",
   "execution_count": null,
   "id": "a0d019fb",
   "metadata": {},
   "outputs": [],
   "source": [
    "df3=df1.drop_duplicates(['Review'])\n",
    "len(df3)"
   ]
  },
  {
   "cell_type": "code",
   "execution_count": null,
   "id": "d4240f18",
   "metadata": {},
   "outputs": [],
   "source": [
    "#도시와 나라 분리시켜주기\n",
    "df3['city'] = df3.User_country.str.split(',').str[0]\n",
    "df3['User_country']=df3.User_country.str.split(',').str[1]\n",
    "df3.reset_index(drop=False, inplace=True)\n",
    "df3=df3[['Title','Review','User_country','Score','Like','location','city']]\n",
    "df3.info()"
   ]
  },
  {
   "cell_type": "code",
   "execution_count": null,
   "id": "8334d7fb",
   "metadata": {},
   "outputs": [],
   "source": [
    "#저장\n",
    "df3.to_csv('review_frickcollection.csv')"
   ]
  },
  {
   "cell_type": "markdown",
   "id": "5ec0613f",
   "metadata": {},
   "source": [
    "# 아시안 나라 직접 분류\n",
    "- unique 매소드를 활용하여 아시안 나라만 분류함. 직접 체크하고 변수에 리스트로 저장해줌\n",
    "- 이외의 나라에 대해서는 일일히 직접 리뷰를 보며 인덱스로 추가해주는 작업을 거쳤음 (너무 복잡하여 해당 과정은 생략함)"
   ]
  },
  {
   "cell_type": "code",
   "execution_count": null,
   "id": "f39b5a25",
   "metadata": {},
   "outputs": [],
   "source": [
    "asia_country=[' 埼玉県',' 대한민국',' Japan',' Taipei',' Shiga',' Funabashi',' 東京都',' 東',' 福岡',' 日本',' Kanagawa',' fukuoka',' South Korea',' Tokyo',' China', ' Hong Kong',' Shizuoka',' Mongolia', ' Korea', \n",
    "              ' Macau',' Taiwan','日本','愛知','神奈川', ' South Korea',' ハワイ州',' 神奈川県','서울','부산','경기도']\n",
    "asia_city=['Korea','South Korea','korea','桑名市','Tokyo Prefecture','アメリカ','千葉','鹿児島','埼玉県','TOKYO','アメリカ','YOKOHAMA','長崎','熊本市','シンガポール','ソウル','埼玉',\n",
    "           '北海道','大阪','神奈川','坂井市','富山市','八戸市','seoul','incheon','South Korea','Seoul','Incheon','Japan','okinawa',\n",
    "           'China','越谷','tokyo','Macau','Shizuoka','神戸','osaka','OSAKA','Osaka','品川区','市川市','Tokyo' ,'fukuoka', 'Osaka', \n",
    "           'Hong Kong','新潟','東京','京都','長崎','横浜','さいたま','横浜市','川崎市','熊本','埼玉県','埼玉','福岡','愛知','茨城',\n",
    "           '大阪','名古屋','名古屋','千葉','埼玉','福岡市','横浜','岐阜','倉敷','横浜','長野','神奈川','Nagoya','千葉','神戸','岐阜県',\n",
    "           '秋田','tokyo','埼玉','神奈川','대한민국','シンガポール','YOKOHAMA','北海道', '北海道','西宮','ニューヨーク','千葉','Hsinchu','北海道','石川',\n",
    "           'ソウル','TOKYO','アメリカ','さいたま', '柏', '岐阜','Taipei City', 'Kanagawa','Setagaya', 'Seoul', 'Tokyo', '横浜市', 'Japan', 'Akita', '弘前', 'Tokyo Prefecture', 'Nagoya', 'Noto-cho','Kanagawa Prefecture', '新潟', 'Kagoshima', 'Busan’,’Niigata Prefecture', 'Sasebo', '仙台市', 'Sendai', 'Osaka', 'Fukuoka Prefecture', 'Fukuoka', '日本', 'Hong Kong', 'Chubu', 'Sapporo', 'Okayama Prefecture', \n",
    "           'Ota', '横浜', 'Yokohama', 'Taichung', '愛知', '千葉', 'Ueda', 'Kanazawa', 'Incheon’, ’Kawasaki', 'Ｔｏｋｙｏ', 'Meguro', '札幌', 'Kobe', 'Kawaguchi', '神奈川', 'Yokosuka-shi', '北海道', \n",
    "           'Toyohashi', 'Shitara-cho', 'Osaka Prefecture', 'Urayasu', '八王子市', 'Matsubushi-machi', 'Kabukicho', 'Hiroshima', '福岡', 'TOKYO', 'Suginami', 'Hirosaki', 'Kyoto', '大阪', \n",
    "           'Toyonaka', 'Maibara', 'Tochigi', 'Shibuya’,’Yanai', '仙台', 'Moriguchi', 'Mizuho', '大阪府', 'Yao', '神戸市', 'Shiga Prefecture', \n",
    "           'Kuwana', '和歌山市', 'Matsuyama', 'Miyazaki', 'Iwate Prefecture', 'Ninomiya-machi', '岡山市', 'Utsunomiya', 'Toyono-cho', 'Hokkaido', 'Konan', 'Gifu', 'Chiba', \n",
    "           'Tsuruoka', 'Chiba Prefecture', '熊本', 'Niigata', 'Fujisawa', '三重県', 'Nara Prefecture', 'San Francisco', 'Itabashi', 'Matsusaka', \n",
    "           'Fujimi', 'shiga', 'Matsue', 'Naha', '宮崎', 'nakanoku tokyo', 'Toyota', 'kanagawa', '那覇市', 'Kochi Prefecture', '広島', \n",
    "           'Hiroshima Prefecture', 'Shinjuku', '埼玉県東松山', 'Hachinohe', '京都',  'Okinawa City', '埼玉', 'Iki', 'Nabari', '盛岡市', 'Miki', 'tokyo',\n",
    "           'Kumamoto', 'Otsuki', 'Hamamatsu-shi', 'Hokuto', 'Matsudo', 'Fuchu', 'Mito', 'Taipei', 'Antarctica', 'Saitama', 'Mejiro', '京都市', 'Kochi',\n",
    "           'Changchun', 'Koto-ku', 'Komae', 'Noda', 'Gimhae', '留萌市', '東京23区', 'Kanawaga', 'Nerima', 'Ichikawa', 'Beppu', '岩手県', 'Ise', 'Seika-cho', '岐阜県',\n",
    "           'Fuji',  '愛知県岡崎市', '서울', 'Shikokuchuo', 'Oita', '대전', '東京都調布市', 'Okayama’,’ fukuoka.jp', 'Ehime Prefecture', 'Kashiwa', '山梨', \n",
    "           '埼玉県入間市’ , ’Izunokuni', 'Koto', 'Yokohama-shi', '明石市', '名古屋市', 'Akashi’,’ Kagawa Prefecture', 'Nagasaki', 'Tokorozawa', '東京都', 'Uji', 'Kamisato-machi', 'Hakataekimae', \n",
    "           'Funabashi', 'Shanghai', '川崎','okinawa', '兵庫県', '静岡', 'Sumida-ku', '名古屋', 'Asaka','Saitama Prefecture', 'Nishinomiya', 'japan', 'Kumano', '川崎市','神奈川県',\n",
    "           'Setagaya-ku', '東京都品川区', '長野', '埼玉県', 'バンコク', 'Mobara','Tokushima', 'Asahikawa', '一宮市', 'hirosimasi', '茨城', 'Toshima','Hiratsuka', 'Iriomote-jima', '石川県',\n",
    "           'kamaishi', 'shizuoka', '東大阪市', 'Kawagoe', '伊豆地方', '神奈川、日本', '沖縄県', '神奈川県茅ヶ崎市', '徳島','Narashino', '船橋', '和歌山', 'Mino', 'Ushiku', 'osaka', '茨城県', '神戸', '長野市', 'Shizuoka', '三重', '滋賀', '奈良', '兵庫', '横須賀', 'kumakiti', '岡山',  'さいたま', '柏', '岐阜', 'Kanagawa', '宝塚市', '広島市', '千葉市', 'nagoya', '東', '浜松', '愛知県', '京都府', '長崎', '松山市', '金沢', '千葉県茂原市', '千葉県', '桑名', 'South Korea', 'Yokosuka', 'Shenzhen', 'China', 'Beijing', 'Uruma','Fussa', 'Macau', 'Pohang', 'Hefei', 'Ayase', 'Guangzhou','HOKKAIDO', 'Seongnam', 'Kiyokawa-mura', 'Hiki-gun', 'Tottori Prefecture', 'Shizuoka Prefecture', 'Chofu', 'Yamanashi', 'Chuo', 'Kyotanabe', 'Hakodate', 'New Taipei', 'Hadano','Tomigusuku', 'Koganei', 'Tachikawa', 'Kumamoto Prefecture', '高知','Kita', 'Obihiro', 'Ibaraki', 'Matsumoto', 'Odawara','Hyogo Prefecture', 'Kurashiki', 'Kyoto Prefecture', 'Kanuma','Nishio', 'Shinagawa', 'Kusatsu', 'Taipei City', 'Koriyama',\n",
    "           'Gwangju', 'Takizawa', 'Neyagawa', 'Izumi', '高槻市', 'Okinawa Prefecture', 'Kunitachi', 'Hakone-machi', 'Kashiwara', 'Takarazuka', 'Kawanishi', 'Kaohsiung', 'Wakayama Prefecture', 'Nara', 'Higashihiroshima', 'Soka', '平塚市', 'Ishigaki', '大阪市西成区', 'Otsu-shi', '鳴門市', '島根', 'Yongin', 'Shiroi', 'Tochigi Prefecture', 'Toyama', 'Nishitokyo', 'Edogawa', 'Otsu', 'Kahoku', 'Sakai', 'Sumida', 'Noshiro', 'Ibaraki Prefecture', 'Sagamihara', 'Kanto', 'Yachiyo', 'Nagano Prefecture', 'Sendagaya', 'Asakusa', 'Ibaraki-machi', 'Sanda', 'Toyooka', 'Nasu-gun', 'Kahoku-cho', '四日市市', 'Oita Prefecture', 'Aioi', 'Nonoichi', 'Chigasaki','Azumino', 'Yamato', 'Tsu', '鎌倉', 'Chita', 'Komaki', 'Hirakata','Taito', 'Agui-cho', 'Ginza', 'Sangenjaya', '大和町', 'saitama','Ikoma', 'Nirasaki', '福岡市', 'Kameido', 'Morioka', 'Gimpo','千葉県千葉市', '長野県', 'Higashiibaraki-gun', '中標津', 'Nakano', 'Chino','Isesaki', 'Tsukuba', '逗子市', '奈良県', '世田谷区', 'Ogikubo', 'yokohama','Gimcheon', \n",
    "           'Watari-cho', 'おおいた','Dongguan', 'Wuxi', 'Insadong', 'Qingdao', 'Sagamihara', 'Kasama','Shanghai', 'Nagareyama','Changwon', 'Tottori', 'Annaka', 'Kawasaki-shi', 'Kitaazumi-gun', 'Azabujuban', 'Himeji', \n",
    "           'shanghai', 'Kamakura', 'Suita', 'Nagano', 'Ebetsu', 'Chiryu', '熊本県', '小山市', 'Shinshiro', '高松市', 'Suwon', 'Shiroishi', 'Takatsuki', 'Cheongju', 'Toyama Prefecture', \n",
    "           'Yugawara-machi', 'Zushi', 'Nanao', 'Wenshan', 'Geoje', 'Joetsu', 'Okazaki', 'Tomisato', 'Fukutsu', 'Gyeongsangnam-do', 'Taiwan', 'Koshigaya', 'Wakayama', 'Musashino', 'Komoro', \n",
    "           '和歌山県', '愛媛', 'Dazaifu', 'マレーシア', '静岡県', 'Higashiosaka', 'Kofu', '松山', '제천', '登別市', 'Chiyoda-ku', 'Settsu', 'Wonju', '富山市', 'Gunpo','Shimizu-cho', 'さいたま市', '札幌市', \n",
    "           'Takamatsu', 'Tama', 'Seosan', 'Gyeonggi-do', 'Asia', 'TYO', 'Daegu', 'Fujiyoshida', 'Miyoshi','Pyeongtaek', '所沢', 'Takanezawa-machi', 'Kure', '宝塚市', '千葉市', 'Kawasaki', '東', '浜松', '愛知県', \n",
    "           '京都府', '長崎', '松山市', '金沢','静岡県','愛知','金沢','横浜','茨城','広島','浜松市','埼玉県','千葉県茂原市','兵庫','山口','岩手','東京','アメリカ','千葉','神奈川','福岡','Hokkaido','熊本','那須','青森','suzuka','シンガポール',\n",
    "           'Funabashi','ソウル','福岡','고양시','栃木','Osaka']\n",
    "\n",
    "for A_index, A in zip(df3.index, df3['User_country']):\n",
    "    if A in asia_country:\n",
    "        asia_indx.append(A_index)\n",
    "        \n",
    "for A1_index, A1 in zip(df3.index, df3['city']):\n",
    "    if A1 in asia_city:\n",
    "        asia_indx.append(A1_index)\n",
    "\n",
    "asia_indx= set(asia_indx)\n",
    "asia_indx=list(asia_indx)\n",
    "print(len(set(asia_indx)))\n",
    "\n",
    "A_review=df3.iloc[asia_indx]\n",
    "print(len(A_review))"
   ]
  },
  {
   "cell_type": "markdown",
   "id": "9077ac91",
   "metadata": {},
   "source": [
    "# 구글번역 API"
   ]
  },
  {
   "cell_type": "code",
   "execution_count": null,
   "id": "a7438c88",
   "metadata": {},
   "outputs": [],
   "source": [
    "from googletrans import Translator\n",
    "#from google_trans_new import google_translator  \n",
    "# Translator 클래스 객체 선언 (translator라는 변수명은 마음대로 정해주면 됨)\n",
    "def google_translate(word):\n",
    "    translator = Translator()\n",
    "    translator.raise_Exception = True\n",
    "    try:\n",
    "        translated = translator.translate(word, dest='en').text\n",
    "    except Exception as err:\n",
    "        translator = Translator()\n",
    "        translator.raise_Exception = True\n",
    "        translated = translator.translate(word, dest='en').text\n",
    "        \n",
    "    return translated"
   ]
  },
  {
   "cell_type": "code",
   "execution_count": null,
   "id": "a154ee3c",
   "metadata": {},
   "outputs": [],
   "source": [
    "eng_Review=[]\n",
    "for i in A_review['Review']:\n",
    "    res=google_translate(i)\n",
    "    eng_Review.append(res)\n",
    "\n",
    "eng_Title=[]\n",
    "for j in A_review['Title']:\n",
    "    resu=google_translate(j)\n",
    "    eng_Title.append(resu)\n",
    "\n",
    "print(len(eng_Review))\n",
    "print(len(eng_Title))\n",
    "\n",
    "A_review['Review']=eng_Review\n",
    "A_review['Title']=eng_Title\n",
    "A_review"
   ]
  },
  {
   "cell_type": "code",
   "execution_count": null,
   "id": "9798bb58",
   "metadata": {},
   "outputs": [],
   "source": [
    "#번역 후 아시아 저장\n",
    "A_review.to_csv('./Asian/asian_frick(225개).csv')"
   ]
  }
 ],
 "metadata": {
  "kernelspec": {
   "display_name": "Python 3 (ipykernel)",
   "language": "python",
   "name": "python3"
  },
  "language_info": {
   "codemirror_mode": {
    "name": "ipython",
    "version": 3
   },
   "file_extension": ".py",
   "mimetype": "text/x-python",
   "name": "python",
   "nbconvert_exporter": "python",
   "pygments_lexer": "ipython3",
   "version": "3.9.7"
  }
 },
 "nbformat": 4,
 "nbformat_minor": 5
}
